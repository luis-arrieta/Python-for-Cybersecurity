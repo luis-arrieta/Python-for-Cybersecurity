{
  "nbformat": 4,
  "nbformat_minor": 0,
  "metadata": {
    "colab": {
      "provenance": [],
      "authorship_tag": "ABX9TyNy7S/9PkfIc+mTu4eK7sFW",
      "include_colab_link": true
    },
    "kernelspec": {
      "name": "python3",
      "display_name": "Python 3"
    },
    "language_info": {
      "name": "python"
    }
  },
  "cells": [
    {
      "cell_type": "markdown",
      "metadata": {
        "id": "view-in-github",
        "colab_type": "text"
      },
      "source": [
        "<a href=\"https://colab.research.google.com/github/luis-arrieta/Python-for-Cybersecurity/blob/main/01_Working_with_Python_Scripting.ipynb\" target=\"_parent\"><img src=\"https://colab.research.google.com/assets/colab-badge.svg\" alt=\"Open In Colab\"/></a>"
      ]
    },
    {
      "cell_type": "markdown",
      "source": [
        "### Python lists ###"
      ],
      "metadata": {
        "id": "RyvaI3VY_reH"
      }
    },
    {
      "cell_type": "markdown",
      "source": [
        "To create a list in Python, simply enclose a comma-separated sequence of elements in square\n",
        "brackets []. For example, creating a list with response codes would be done as follows:"
      ],
      "metadata": {
        "id": "WWa7bBaW_-li"
      }
    },
    {
      "cell_type": "code",
      "execution_count": 2,
      "metadata": {
        "colab": {
          "base_uri": "https://localhost:8080/"
        },
        "id": "qHflzU38_fR6",
        "outputId": "5a32d3cf-b462-49a9-89fb-86f1ff634781"
      },
      "outputs": [
        {
          "output_type": "stream",
          "name": "stdout",
          "text": [
            "[200, 400, 403, 500]\n"
          ]
        }
      ],
      "source": [
        "responses = [200, 400, 403, 500]\n",
        "print(responses)"
      ]
    },
    {
      "cell_type": "markdown",
      "source": [
        "Indexes are used to access an element of a list. An index is an integer that indicates the position\n",
        "of an element in a list. The first element of a list always starts at index 0."
      ],
      "metadata": {
        "id": "YMKOhGG_AKzr"
      }
    },
    {
      "cell_type": "code",
      "source": [
        "print(responses[0])\n",
        "print(responses[2])"
      ],
      "metadata": {
        "colab": {
          "base_uri": "https://localhost:8080/"
        },
        "id": "BkYrVQRHAMVS",
        "outputId": "c5efccbc-9760-4e6d-a5b6-077c3d4508fd"
      },
      "execution_count": 3,
      "outputs": [
        {
          "output_type": "stream",
          "name": "stdout",
          "text": [
            "200\n",
            "403\n"
          ]
        }
      ]
    },
    {
      "cell_type": "markdown",
      "source": [
        "If an attempt is made to access an index that is outside the range of the list, the interpreter will\n",
        "throw the IndexError exception."
      ],
      "metadata": {
        "id": "hYDQoEHtAfcy"
      }
    },
    {
      "cell_type": "code",
      "source": [
        "print(responses[4])"
      ],
      "metadata": {
        "colab": {
          "base_uri": "https://localhost:8080/",
          "height": 146
        },
        "id": "vhcFcVsUAjSH",
        "outputId": "f0ec2fa1-9f02-4495-d327-1057bf3eef8c"
      },
      "execution_count": 4,
      "outputs": [
        {
          "output_type": "error",
          "ename": "IndexError",
          "evalue": "list index out of range",
          "traceback": [
            "\u001b[0;31m---------------------------------------------------------------------------\u001b[0m",
            "\u001b[0;31mIndexError\u001b[0m                                Traceback (most recent call last)",
            "\u001b[0;32m<ipython-input-4-b41a64e97986>\u001b[0m in \u001b[0;36m<cell line: 0>\u001b[0;34m()\u001b[0m\n\u001b[0;32m----> 1\u001b[0;31m \u001b[0mprint\u001b[0m\u001b[0;34m(\u001b[0m\u001b[0mresponses\u001b[0m\u001b[0;34m[\u001b[0m\u001b[0;36m4\u001b[0m\u001b[0;34m]\u001b[0m\u001b[0;34m)\u001b[0m\u001b[0;34m\u001b[0m\u001b[0;34m\u001b[0m\u001b[0m\n\u001b[0m",
            "\u001b[0;31mIndexError\u001b[0m: list index out of range"
          ]
        }
      ]
    },
    {
      "cell_type": "markdown",
      "source": [
        "Similarly, if an index that is not an integer is used, the TypeError\n",
        "exception will be thrown:"
      ],
      "metadata": {
        "id": "UE5laiURAu5l"
      }
    },
    {
      "cell_type": "code",
      "source": [
        "print(responses[4.1])"
      ],
      "metadata": {
        "colab": {
          "base_uri": "https://localhost:8080/",
          "height": 146
        },
        "id": "eu1TfBIXAuAk",
        "outputId": "89a88c04-5ac5-4d4f-c55c-ba013e6859b4"
      },
      "execution_count": 5,
      "outputs": [
        {
          "output_type": "error",
          "ename": "TypeError",
          "evalue": "list indices must be integers or slices, not float",
          "traceback": [
            "\u001b[0;31m---------------------------------------------------------------------------\u001b[0m",
            "\u001b[0;31mTypeError\u001b[0m                                 Traceback (most recent call last)",
            "\u001b[0;32m<ipython-input-5-b16c6cf03b67>\u001b[0m in \u001b[0;36m<cell line: 0>\u001b[0;34m()\u001b[0m\n\u001b[0;32m----> 1\u001b[0;31m \u001b[0mprint\u001b[0m\u001b[0;34m(\u001b[0m\u001b[0mresponses\u001b[0m\u001b[0;34m[\u001b[0m\u001b[0;36m4.1\u001b[0m\u001b[0;34m]\u001b[0m\u001b[0;34m)\u001b[0m\u001b[0;34m\u001b[0m\u001b[0;34m\u001b[0m\u001b[0m\n\u001b[0m",
            "\u001b[0;31mTypeError\u001b[0m: list indices must be integers or slices, not float"
          ]
        }
      ]
    },
    {
      "cell_type": "markdown",
      "source": [
        "Consider the following example: a programmer can create a list using the append() method by\n",
        "adding objects, printing the objects, and then sorting them before printing again. We describe a\n",
        "list of protocols in the following example, and use the key methods of a Python list, such as add,\n",
        "index, and remove:"
      ],
      "metadata": {
        "id": "Jzv-xegcA3Pc"
      }
    },
    {
      "cell_type": "code",
      "source": [
        "protocolList = []\n",
        "protocolList.append(\"FTP\")\n",
        "protocolList.append(\"SSH\")\n",
        "protocolList.append(\"SMTP\")\n",
        "protocolList.append(\"HTTP\")\n",
        "print(protocolList)"
      ],
      "metadata": {
        "colab": {
          "base_uri": "https://localhost:8080/"
        },
        "id": "MKPsTh3fA4wd",
        "outputId": "2b93507a-7be7-4839-b8da-d06a3e92aa66"
      },
      "execution_count": 6,
      "outputs": [
        {
          "output_type": "stream",
          "name": "stdout",
          "text": [
            "['FTP', 'SSH', 'SMTP', 'HTTP']\n"
          ]
        }
      ]
    },
    {
      "cell_type": "code",
      "source": [
        "protocolList.sort()\n",
        "print(protocolList)"
      ],
      "metadata": {
        "colab": {
          "base_uri": "https://localhost:8080/"
        },
        "id": "0M4d9xA8BK19",
        "outputId": "09907756-ec6e-46d2-83eb-e893c3895bd7"
      },
      "execution_count": 8,
      "outputs": [
        {
          "output_type": "stream",
          "name": "stdout",
          "text": [
            "['FTP', 'HTTP', 'SMTP', 'SSH']\n"
          ]
        }
      ]
    },
    {
      "cell_type": "code",
      "source": [
        "type(protocolList)"
      ],
      "metadata": {
        "colab": {
          "base_uri": "https://localhost:8080/"
        },
        "id": "qTVXrRY1BZbR",
        "outputId": "fef955d0-b1e1-4046-d339-c2ad3b8d36af"
      },
      "execution_count": 9,
      "outputs": [
        {
          "output_type": "execute_result",
          "data": {
            "text/plain": [
              "list"
            ]
          },
          "metadata": {},
          "execution_count": 9
        }
      ]
    },
    {
      "cell_type": "code",
      "source": [
        "len(protocolList)"
      ],
      "metadata": {
        "colab": {
          "base_uri": "https://localhost:8080/"
        },
        "id": "2b-Ovyw2BdN3",
        "outputId": "cf414dc5-b845-4b47-defe-15d94af80ef5"
      },
      "execution_count": 10,
      "outputs": [
        {
          "output_type": "execute_result",
          "data": {
            "text/plain": [
              "4"
            ]
          },
          "metadata": {},
          "execution_count": 10
        }
      ]
    },
    {
      "cell_type": "markdown",
      "source": [
        "To access specific positions, we can use the index() method, and to delete an element, we can use the remove() method:"
      ],
      "metadata": {
        "id": "U65XkswHBiw7"
      }
    },
    {
      "cell_type": "code",
      "source": [
        "position = protocolList.index(\"SSH\")\n",
        "print(\"SSH position \" + str(position))"
      ],
      "metadata": {
        "colab": {
          "base_uri": "https://localhost:8080/"
        },
        "id": "OVUtHYSMCDvr",
        "outputId": "e6d0b846-d030-46ce-fb27-c1add4b66228"
      },
      "execution_count": 12,
      "outputs": [
        {
          "output_type": "stream",
          "name": "stdout",
          "text": [
            "SSH position 3\n"
          ]
        }
      ]
    },
    {
      "cell_type": "code",
      "source": [
        "protocolList.remove(\"SSH\")\n",
        "print(protocolList)"
      ],
      "metadata": {
        "colab": {
          "base_uri": "https://localhost:8080/"
        },
        "id": "4b29qDJFCSSk",
        "outputId": "86778371-d709-4577-81ca-f156f716d938"
      },
      "execution_count": 14,
      "outputs": [
        {
          "output_type": "stream",
          "name": "stdout",
          "text": [
            "['FTP', 'HTTP', 'SMTP']\n"
          ]
        }
      ]
    },
    {
      "cell_type": "code",
      "source": [
        "count = len(protocolList)\n",
        "print(\"Protocol elements \" + str(count))"
      ],
      "metadata": {
        "colab": {
          "base_uri": "https://localhost:8080/"
        },
        "id": "sAP1g7W5CdjP",
        "outputId": "93c79fc7-c981-4f3f-f9a7-986b92962ba6"
      },
      "execution_count": 16,
      "outputs": [
        {
          "output_type": "stream",
          "name": "stdout",
          "text": [
            "Protocol elements 3\n"
          ]
        }
      ]
    },
    {
      "cell_type": "markdown",
      "source": [
        "To print out the whole protocol list, use the following instructions. This will loop through all the\n",
        "elements and print them:"
      ],
      "metadata": {
        "id": "57io9gs_Cs83"
      }
    },
    {
      "cell_type": "code",
      "source": [
        "for protocol in protocolList:\n",
        "    print(protocol)"
      ],
      "metadata": {
        "colab": {
          "base_uri": "https://localhost:8080/"
        },
        "id": "hodYtYCbCuVx",
        "outputId": "6e2b6655-a05c-40d2-aa8f-11505e2e5a95"
      },
      "execution_count": 17,
      "outputs": [
        {
          "output_type": "stream",
          "name": "stdout",
          "text": [
            "FTP\n",
            "HTTP\n",
            "SMTP\n"
          ]
        }
      ]
    },
    {
      "cell_type": "markdown",
      "source": [
        "Lists also provide methods that help manipulate the values within them and allow us to store more than one variable within them and provide a better way to sort object arrays in Python.\n",
        "These are the techniques commonly used to manage lists:"
      ],
      "metadata": {
        "id": "cm2wHizsC6Vn"
      }
    },
    {
      "cell_type": "markdown",
      "source": [
        ".append(value): Appends an element at the end of the list"
      ],
      "metadata": {
        "id": "Z6MQPjUWDDRx"
      }
    },
    {
      "cell_type": "code",
      "source": [
        "protocolList.append(\"POP3\")\n",
        "print(protocolList)"
      ],
      "metadata": {
        "colab": {
          "base_uri": "https://localhost:8080/"
        },
        "id": "Vn1Mw7cSDCOB",
        "outputId": "14abb3f8-eb32-4e91-8cb3-576f16932337"
      },
      "execution_count": 21,
      "outputs": [
        {
          "output_type": "stream",
          "name": "stdout",
          "text": [
            "['FTP', 'HTTP', 'SMTP', 'POP3', 'POP3', 'POP3', 'POP3']\n"
          ]
        }
      ]
    },
    {
      "cell_type": "markdown",
      "source": [
        ".count('x'): Gets the number of 'x' elements in the list"
      ],
      "metadata": {
        "id": "_4A58IHCDVgd"
      }
    },
    {
      "cell_type": "code",
      "source": [
        "print(protocolList.count(\"POP3\"))"
      ],
      "metadata": {
        "colab": {
          "base_uri": "https://localhost:8080/"
        },
        "id": "99HcZpclDWTX",
        "outputId": "c7a88766-bb1d-4803-bb06-d0bb20242d3f"
      },
      "execution_count": 24,
      "outputs": [
        {
          "output_type": "stream",
          "name": "stdout",
          "text": [
            "4\n"
          ]
        }
      ]
    },
    {
      "cell_type": "markdown",
      "source": [
        ".index('x'): Returns the index of 'x' in the list"
      ],
      "metadata": {
        "id": "VvEQecIWDx4I"
      }
    },
    {
      "cell_type": "code",
      "source": [
        "print(protocolList.index(\"FTP\"))"
      ],
      "metadata": {
        "colab": {
          "base_uri": "https://localhost:8080/"
        },
        "id": "bfir2YsuDygj",
        "outputId": "cae29189-6207-4010-dc78-3c1c970adb8c"
      },
      "execution_count": 25,
      "outputs": [
        {
          "output_type": "stream",
          "name": "stdout",
          "text": [
            "0\n"
          ]
        }
      ]
    },
    {
      "cell_type": "markdown",
      "source": [
        ".insert('y','x'): Inserts 'x' at location 'y'"
      ],
      "metadata": {
        "id": "QWw_n6_jD64f"
      }
    },
    {
      "cell_type": "code",
      "source": [
        "protocolList.insert(1,\"QUIC\")\n",
        "print(protocolList)"
      ],
      "metadata": {
        "colab": {
          "base_uri": "https://localhost:8080/"
        },
        "id": "fj5bRlaPD7y7",
        "outputId": "29f4062c-67bf-4ee7-979e-f64d334d4ac1"
      },
      "execution_count": 26,
      "outputs": [
        {
          "output_type": "stream",
          "name": "stdout",
          "text": [
            "['FTP', 'QUIC', 'HTTP', 'SMTP', 'POP3', 'POP3', 'POP3', 'POP3']\n"
          ]
        }
      ]
    },
    {
      "cell_type": "markdown",
      "source": [
        ".pop(): Returns the last element and removes it from the list"
      ],
      "metadata": {
        "id": "PgUL4vIMEGxl"
      }
    },
    {
      "cell_type": "code",
      "source": [
        "protocolList.pop()\n",
        "print(protocolList)"
      ],
      "metadata": {
        "colab": {
          "base_uri": "https://localhost:8080/"
        },
        "id": "2ABVYnVpEHwV",
        "outputId": "91ca0c97-9f6f-4420-90cf-7729f82fb10d"
      },
      "execution_count": 27,
      "outputs": [
        {
          "output_type": "stream",
          "name": "stdout",
          "text": [
            "['FTP', 'QUIC', 'HTTP', 'SMTP', 'POP3', 'POP3', 'POP3']\n"
          ]
        }
      ]
    },
    {
      "cell_type": "markdown",
      "source": [
        ".remove('x'): Removes the first 'x' from the list"
      ],
      "metadata": {
        "id": "S6veHKPEEQVz"
      }
    },
    {
      "cell_type": "code",
      "source": [
        "protocolList.remove(\"QUIC\")\n",
        "print(protocolList)"
      ],
      "metadata": {
        "colab": {
          "base_uri": "https://localhost:8080/"
        },
        "id": "JOXnpGFDER4A",
        "outputId": "ba57e06d-c6bb-4591-89d8-edbec980a867"
      },
      "execution_count": 28,
      "outputs": [
        {
          "output_type": "stream",
          "name": "stdout",
          "text": [
            "['FTP', 'HTTP', 'SMTP', 'POP3', 'POP3', 'POP3']\n"
          ]
        }
      ]
    },
    {
      "cell_type": "markdown",
      "source": [
        ".reverse(): Reverses the elements in the list"
      ],
      "metadata": {
        "id": "mKXLkprNEXW5"
      }
    },
    {
      "cell_type": "code",
      "source": [
        "protocolList.reverse()\n",
        "print(protocolList)"
      ],
      "metadata": {
        "colab": {
          "base_uri": "https://localhost:8080/"
        },
        "id": "ll4rTNFIEYSt",
        "outputId": "4e69b515-67a5-4448-8dfd-5f2dcd58c962"
      },
      "execution_count": 29,
      "outputs": [
        {
          "output_type": "stream",
          "name": "stdout",
          "text": [
            "['POP3', 'POP3', 'POP3', 'SMTP', 'HTTP', 'FTP']\n"
          ]
        }
      ]
    },
    {
      "cell_type": "markdown",
      "source": [
        ".sort(): Sorts the list in ascending order"
      ],
      "metadata": {
        "id": "P7hargvNEdbf"
      }
    },
    {
      "cell_type": "code",
      "source": [
        "protocolList.sort()\n",
        "print(protocolList)"
      ],
      "metadata": {
        "colab": {
          "base_uri": "https://localhost:8080/"
        },
        "id": "agpz8DS2EeL9",
        "outputId": "7920bb47-fb1b-4c18-a28a-5e48fd6b2746"
      },
      "execution_count": 30,
      "outputs": [
        {
          "output_type": "stream",
          "name": "stdout",
          "text": [
            "['FTP', 'HTTP', 'POP3', 'POP3', 'POP3', 'SMTP']\n"
          ]
        }
      ]
    },
    {
      "cell_type": "markdown",
      "source": [
        "The indexing operator allows access to an element and is expressed syntactically by adding its\n",
        "index in brackets to the list, list [index]. You can change the value of a chosen element in the\n",
        "list using the index between brackets:"
      ],
      "metadata": {
        "id": "7Nm1yZoxEquK"
      }
    },
    {
      "cell_type": "code",
      "source": [
        "protocolList[3] = \"QUIC\"\n",
        "print(\"New list content: \", protocolList)"
      ],
      "metadata": {
        "colab": {
          "base_uri": "https://localhost:8080/"
        },
        "id": "13MnJYUqErZL",
        "outputId": "841a8f56-04a2-4352-ebc2-e0d7bb34db2d"
      },
      "execution_count": 32,
      "outputs": [
        {
          "output_type": "stream",
          "name": "stdout",
          "text": [
            "New list content:  ['FTP', 'HTTP', 'POP3', 'QUIC', 'POP3', 'SMTP']\n"
          ]
        }
      ]
    },
    {
      "cell_type": "markdown",
      "source": [
        "Also, you can copy the value of a specific position to another position in the list:"
      ],
      "metadata": {
        "id": "RhMVvYnhFC65"
      }
    },
    {
      "cell_type": "code",
      "source": [
        "protocolList[3] = protocolList[0]\n",
        "print(protocolList)"
      ],
      "metadata": {
        "colab": {
          "base_uri": "https://localhost:8080/"
        },
        "id": "UHrQ1gKSFDrx",
        "outputId": "7280f20b-bddc-4030-8cf8-b689fbce21ab"
      },
      "execution_count": 33,
      "outputs": [
        {
          "output_type": "stream",
          "name": "stdout",
          "text": [
            "['FTP', 'HTTP', 'POP3', 'FTP', 'POP3', 'SMTP']\n"
          ]
        }
      ]
    },
    {
      "cell_type": "markdown",
      "source": [
        "Adding elements to a list\n",
        "Lists are mutable sequences that can be modified, which means items can be added, updated, or removed. To add one or more elements, we can use the extend() method. Also, we can use the\n",
        "insert() method to insert an element in a specific index location. We can add elements to a list by means of the following methods:"
      ],
      "metadata": {
        "id": "i1fcqdJtFVW-"
      }
    },
    {
      "cell_type": "markdown",
      "source": [
        "list.append(value): This method allows an element to be inserted at the end of the list.\n",
        "It takes its argument’s value and puts it at the end of the list that owns the method. The list’s length then increases by one."
      ],
      "metadata": {
        "id": "03SeL55mFYnP"
      }
    },
    {
      "cell_type": "code",
      "source": [
        "responses.append(503)\n",
        "print(responses)"
      ],
      "metadata": {
        "colab": {
          "base_uri": "https://localhost:8080/"
        },
        "id": "RFdFHiS_FcIW",
        "outputId": "cb8a171e-f475-4f69-918e-7556712f9649"
      },
      "execution_count": 34,
      "outputs": [
        {
          "output_type": "stream",
          "name": "stdout",
          "text": [
            "[200, 400, 403, 500, 503]\n"
          ]
        }
      ]
    },
    {
      "cell_type": "markdown",
      "source": [
        "list.extend(values): This method allows inserting many elements at the end of the list."
      ],
      "metadata": {
        "id": "psMkUj0rF227"
      }
    },
    {
      "cell_type": "code",
      "source": [
        "responses.extend([504, 505])\n",
        "print(responses)"
      ],
      "metadata": {
        "colab": {
          "base_uri": "https://localhost:8080/"
        },
        "id": "T_0W9lQnF4ow",
        "outputId": "c4ef59ef-ef9a-4fab-88c2-1a119149e577"
      },
      "execution_count": 35,
      "outputs": [
        {
          "output_type": "stream",
          "name": "stdout",
          "text": [
            "[200, 400, 403, 500, 503, 504, 505]\n"
          ]
        }
      ]
    },
    {
      "cell_type": "markdown",
      "source": [
        "list.insert(location, value): The insert() method is a bit smarter since it can add a new element at any place in the list, not just at the end. It takes as arguments first the required location of the element to be inserted and then the element to be inserted."
      ],
      "metadata": {
        "id": "hjwz37X3F_ub"
      }
    },
    {
      "cell_type": "code",
      "source": [
        "responses.insert(0, 201)\n",
        "print(responses)"
      ],
      "metadata": {
        "colab": {
          "base_uri": "https://localhost:8080/"
        },
        "id": "SaTE1mBLGCFo",
        "outputId": "6adb4fbd-ce03-4642-b499-b187ee006ed5"
      },
      "execution_count": 36,
      "outputs": [
        {
          "output_type": "stream",
          "name": "stdout",
          "text": [
            "[201, 200, 400, 403, 500, 503, 504, 505]\n"
          ]
        }
      ]
    },
    {
      "cell_type": "markdown",
      "source": [
        "Reversing a list\n",
        "\n",
        "Another interesting operation that we perform in lists is the one that offers the possibility of\n",
        "getting elements in a reverse way in the list through the reverse() method:"
      ],
      "metadata": {
        "id": "Y2454j8cIDAr"
      }
    },
    {
      "cell_type": "code",
      "source": [
        "protocolList.reverse()\n",
        "print(protocolList)"
      ],
      "metadata": {
        "colab": {
          "base_uri": "https://localhost:8080/"
        },
        "id": "9d_Bw39sIFn3",
        "outputId": "bc5ea985-f657-4e9f-8f81-37e2748f97cd"
      },
      "execution_count": 37,
      "outputs": [
        {
          "output_type": "stream",
          "name": "stdout",
          "text": [
            "['SMTP', 'POP3', 'FTP', 'POP3', 'HTTP', 'FTP']\n"
          ]
        }
      ]
    },
    {
      "cell_type": "markdown",
      "source": [
        "Another way to do the same operation is to use the -1 index. This quick and easy technique shows how you can access all the elements of a list in reverse order:"
      ],
      "metadata": {
        "id": "Dr_IzMpxIOv5"
      }
    },
    {
      "cell_type": "code",
      "source": [
        "protocolList[::-1]\n",
        "print(protocolList)"
      ],
      "metadata": {
        "colab": {
          "base_uri": "https://localhost:8080/"
        },
        "id": "Zv9Zs2MJIQx-",
        "outputId": "84216d55-63c9-428b-c7bf-62a099b9a7a3"
      },
      "execution_count": 38,
      "outputs": [
        {
          "output_type": "stream",
          "name": "stdout",
          "text": [
            "['SMTP', 'POP3', 'FTP', 'POP3', 'HTTP', 'FTP']\n"
          ]
        }
      ]
    },
    {
      "cell_type": "markdown",
      "source": [
        "Searching elements in a list\n",
        "\n",
        "In this example, we can see the code for finding the location of a given element inside a list. We use the range function to get elements inside protocolList and we compare each element with the element to find. When both elements are equal, we break the loop and return the element. To\n",
        "find out if an element is contained in a list, we can use the membership operator in."
      ],
      "metadata": {
        "id": "WoSCsDe8ItYL"
      }
    },
    {
      "cell_type": "code",
      "source": [
        "'HTTPS' in protocolList"
      ],
      "metadata": {
        "colab": {
          "base_uri": "https://localhost:8080/"
        },
        "id": "HjnJjstyIwmW",
        "outputId": "a3f9d086-1566-4cf0-af39-e3428ebbed4f"
      },
      "execution_count": 39,
      "outputs": [
        {
          "output_type": "execute_result",
          "data": {
            "text/plain": [
              "False"
            ]
          },
          "metadata": {},
          "execution_count": 39
        }
      ]
    },
    {
      "cell_type": "code",
      "source": [
        "'HTTP' in protocolList"
      ],
      "metadata": {
        "colab": {
          "base_uri": "https://localhost:8080/"
        },
        "id": "C6cEvz8dI2Jv",
        "outputId": "d91723f7-a7a4-4520-9a8a-dd3db11a655e"
      },
      "execution_count": 40,
      "outputs": [
        {
          "output_type": "execute_result",
          "data": {
            "text/plain": [
              "True"
            ]
          },
          "metadata": {},
          "execution_count": 40
        }
      ]
    },
    {
      "cell_type": "markdown",
      "source": [],
      "metadata": {
        "id": "_9Vdv_8VJGaX"
      }
    },
    {
      "cell_type": "code",
      "source": [
        "protocolList2 = [\"FTP\", \"HTTP\", \"SNMP\", \"SSH\"]\n",
        "element_to_find = \"SSH\"\n",
        "for i in range(len(protocolList2)):\n",
        "  if element_to_find in protocolList2[i]:\n",
        "    print(\"Element found at index\", i)\n",
        "    break"
      ],
      "metadata": {
        "colab": {
          "base_uri": "https://localhost:8080/"
        },
        "id": "gqAW7E3jJG9D",
        "outputId": "b7609b31-502f-46da-b28b-772e42054c07"
      },
      "execution_count": 48,
      "outputs": [
        {
          "output_type": "stream",
          "name": "stdout",
          "text": [
            "Element found at index 3\n"
          ]
        }
      ]
    },
    {
      "cell_type": "code",
      "source": [
        "protocolList2 = [\"FTP\", \"HTTP\", \"SNMP\", \"SSH\"]\n",
        "element_to_find = \"HTTPS\"\n",
        "for i in range(len(protocolList2)):\n",
        "  if element_to_find in protocolList2[i]:\n",
        "    print(\"Element found at index\", i)\n",
        "    break\n",
        "  else:\n",
        "    print(\"Element not found\")"
      ],
      "metadata": {
        "colab": {
          "base_uri": "https://localhost:8080/"
        },
        "id": "osDJCH3-Jo7g",
        "outputId": "7d8b8912-496c-4028-ceb2-521701aa75ac"
      },
      "execution_count": 53,
      "outputs": [
        {
          "output_type": "stream",
          "name": "stdout",
          "text": [
            "Element not found\n",
            "Element not found\n",
            "Element not found\n",
            "Element not found\n"
          ]
        }
      ]
    }
  ]
}